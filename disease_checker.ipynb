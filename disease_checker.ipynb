{
  "nbformat": 4,
  "nbformat_minor": 0,
  "metadata": {
    "colab": {
      "provenance": []
    },
    "kernelspec": {
      "name": "python3",
      "display_name": "Python 3"
    },
    "language_info": {
      "name": "python"
    }
  },
  "cells": [
    {
      "cell_type": "code",
      "execution_count": 1,
      "metadata": {
        "colab": {
          "base_uri": "https://localhost:8080/"
        },
        "id": "cf1ohLohsET2",
        "outputId": "a951a63b-bf61-40ff-bd55-322eec5246b0"
      },
      "outputs": [
        {
          "output_type": "stream",
          "name": "stdout",
          "text": [
            "what symptons are you currently facing? 1, stop = 'quit' headache\n",
            "what symptons are you currently facing? 2, stop = 'quit' rash\n",
            "what symptons are you currently facing? 3, stop = 'quit' cough\n",
            "the disease is possibly Typhoid\n",
            "first aid tips: maintain hygiene, avoid street food\n",
            "consult a specialist\n"
          ]
        }
      ],
      "source": [
        "usersymp = []\n",
        "symp = [\"fever\", \"cough\", \"motion\", \"flu\", \"loss of taste\", \"headache\", \"cramps\", \"blury vision\", \"sore throat\", \"fatigue\", \"rash\", \"vomiting\"]\n",
        "\n",
        "malariasymp = [\"fever\", \"cough\", \"motion\"]\n",
        "dangue = [\"loss of taste\", \"headache\", \"cramps\"]\n",
        "flu = [\"fever\", \"cough\", \"sore throat\", \"fatigue\"]\n",
        "covid = [\"fever\", \"cough\", \"loss of taste\", \"fatigue\"]\n",
        "typhoid = [\"fever\", \"headache\", \"rash\", \"vomiting\"]\n",
        "\n",
        "for i in range(1, 4):\n",
        "    user = input(f\"what symptons are you currently facing? {i}, stop = 'quit' \")\n",
        "\n",
        "    if user.lower() == \"quit\":\n",
        "        break\n",
        "\n",
        "    us = [i.lower().strip() for i in user.split(\",\")]\n",
        "    usersymp.extend(us)\n",
        "\n",
        "match1 = set(usersymp).intersection(set(malariasymp))\n",
        "match2 = set(usersymp).intersection(set(dangue))\n",
        "match3 = set(usersymp).intersection(set(flu))\n",
        "match4 = set(usersymp).intersection(set(covid))\n",
        "match5 = set(usersymp).intersection(set(typhoid))\n",
        "\n",
        "if len(match1) >= 2:\n",
        "    print(\"the disease is possibly Malaria\")\n",
        "    print(\"first aid tips: stay hydrated, eat healthy food\")\n",
        "    print(\"consult a specialist\")\n",
        "\n",
        "elif len(match2) >= 2:\n",
        "    print(\"the disease is possibly Dengue\")\n",
        "    print(\"first aid tips: use mosquito repellent\")\n",
        "    print(\"consult a specialist\")\n",
        "\n",
        "elif len(match3) >= 2:\n",
        "    print(\"the disease is possibly Flu\")\n",
        "    print(\"first aid tips: rest well, drink warm fluids\")\n",
        "    print(\"consult a specialist\")\n",
        "\n",
        "elif len(match4) >= 2:\n",
        "    print(\"the disease is possibly COVID-19\")\n",
        "    print(\"first aid tips: isolate yourself, stay hydrated\")\n",
        "    print(\"consult a specialist\")\n",
        "\n",
        "elif len(match5) >= 2:\n",
        "    print(\"the disease is possibly Typhoid\")\n",
        "    print(\"first aid tips: maintain hygiene, avoid street food\")\n",
        "    print(\"consult a specialist\")\n",
        "\n",
        "else:\n",
        "    print(\"no disease identified, please consult a doctor\")\n",
        "\n",
        "\n",
        "\n",
        "\n"
      ]
    }
  ]
}